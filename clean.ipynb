{
 "cells": [
  {
   "cell_type": "code",
   "execution_count": 17,
   "metadata": {},
   "outputs": [
    {
     "name": "stdout",
     "output_type": "stream",
     "text": [
      "6086599\n",
      "5971747\n",
      "5952550\n",
      "5937134\n",
      "5922046\n"
     ]
    }
   ],
   "source": [
    "from nltk.tokenize import sent_tokenize\n",
    "import re\n",
    "\n",
    "\n",
    "def clean_text(data):    \n",
    "    # corpus specific cleaning\n",
    "    data = re.sub(r\"#.{1,50}#\", \" \", data)\n",
    "    # Eg. #MERGER PROPOSED#\n",
    "    data = re.sub(r\"_.{1,50}_\", \" \", data)\n",
    "    # Eg. _AUSTIN, TEXAS_\n",
    "    \n",
    "    data = re.sub(r\"[~&@{}<>]\", \"\", data)\n",
    "\n",
    "\n",
    "with open(\"./brown.txt\", \"r\", encoding=\"utf8\") as f:\n",
    "    data = f.read()\n",
    "\n",
    "\n",
    "data = re.sub(r\"\\s+\", \" \", data)\n",
    "data = clean_text(data)\n",
    "data = re.sub(r\"\\s+\", \" \", data)    "
   ]
  },
  {
   "cell_type": "code",
   "execution_count": 18,
   "metadata": {},
   "outputs": [
    {
     "name": "stdout",
     "output_type": "stream",
     "text": [
      "51247\n"
     ]
    }
   ],
   "source": [
    "sents = sent_tokenize(data)\n",
    "count = len(sents)\n",
    "print(count)"
   ]
  },
  {
   "cell_type": "code",
   "execution_count": 19,
   "metadata": {},
   "outputs": [],
   "source": [
    "def write_file(lines, filename):\n",
    "    with open(filename, \"w\", encoding=\"utf8\") as f:\n",
    "        for line in lines:\n",
    "            f.write(line + \"\\n\")\n",
    "\n",
    "\n",
    "offset_incr = int(count // 10)\n",
    "offset = offset_incr * 7\n",
    "\n",
    "lines = sents[:offset]\n",
    "write_file(lines, \"./train.txt\")\n",
    "\n",
    "lines = sents[offset : offset + (offset_incr)]\n",
    "write_file(lines, \"./valid.txt\")\n",
    "\n",
    "offset = offset + (offset_incr)\n",
    "lines = sents[offset:]\n",
    "write_file(lines, \"./test.txt\")"
   ]
  }
 ],
 "metadata": {
  "kernelspec": {
   "display_name": "Python 3.8.10 ('.env': venv)",
   "language": "python",
   "name": "python3"
  },
  "language_info": {
   "codemirror_mode": {
    "name": "ipython",
    "version": 3
   },
   "file_extension": ".py",
   "mimetype": "text/x-python",
   "name": "python",
   "nbconvert_exporter": "python",
   "pygments_lexer": "ipython3",
   "version": "3.8.10"
  },
  "vscode": {
   "interpreter": {
    "hash": "8516a362b378236449bb952599305b698ba96e03a3ee2acb69e98df20a930db3"
   }
  }
 },
 "nbformat": 4,
 "nbformat_minor": 2
}
